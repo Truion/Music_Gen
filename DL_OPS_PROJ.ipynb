{
  "cells": [
    {
      "cell_type": "markdown",
      "metadata": {
        "id": "dqqArj8j_hee"
      },
      "source": [
        "Source: https://github.com/SudharshanShanmugasundaram/Music-Generation"
      ]
    },
    {
      "cell_type": "code",
      "execution_count": 1,
      "metadata": {
        "colab": {
          "base_uri": "https://localhost:8080/"
        },
        "id": "xe90Fg4lug5a",
        "outputId": "2fdcfbd6-9450-4d4c-9df6-cf16db1f37f0"
      },
      "outputs": [
        {
          "name": "stdout",
          "output_type": "stream",
          "text": [
            "Cloning into 'Music-Generation'...\n",
            "remote: Enumerating objects: 1095, done.\u001b[K\n",
            "remote: Total 1095 (delta 0), reused 0 (delta 0), pack-reused 1095\u001b[K\n",
            "Receiving objects: 100% (1095/1095), 3.32 MiB | 8.59 MiB/s, done.\n",
            "Resolving deltas: 100% (30/30), done.\n"
          ]
        }
      ],
      "source": [
        "!git clone https://github.com/SudharshanShanmugasundaram/Music-Generation"
      ]
    },
    {
      "cell_type": "code",
      "execution_count": 3,
      "metadata": {
        "colab": {
          "base_uri": "https://localhost:8080/"
        },
        "id": "dGjXjZZnupJb",
        "outputId": "5485cd6d-9d46-4ce1-f45e-7690434d0de5"
      },
      "outputs": [
        {
          "name": "stdout",
          "output_type": "stream",
          "text": [
            "[WinError 2] The system cannot find the file specified: 'Music-Generation'\n",
            "c:\\Users\\Midrian\\Documents\\Misc\\Music_generate\\Music-Generation\\notebooks\n"
          ]
        }
      ],
      "source": [
        "cd Music-Generation"
      ]
    },
    {
      "cell_type": "code",
      "execution_count": 8,
      "metadata": {
        "ExecuteTime": {
          "end_time": "2018-11-27T12:20:43.948987Z",
          "start_time": "2018-11-27T12:20:30.225783Z"
        },
        "id": "7WYhpbUGuQFu"
      },
      "outputs": [],
      "source": [
        "%matplotlib inline\n",
        "import os\n",
        "import sys\n",
        "import random\n",
        "sys.path.append('C:/Users/Midrian/Documents/Misc/Music_generate/Music-Generation/midi')\n",
        "\n",
        "import torch\n",
        "import torch.nn as nn\n",
        "from torch.autograd import Variable\n",
        "import torch.utils.data as data"
      ]
    },
    {
      "cell_type": "code",
      "execution_count": 10,
      "metadata": {
        "ExecuteTime": {
          "end_time": "2018-11-27T12:20:52.800756Z",
          "start_time": "2018-11-27T12:20:43.965495Z"
        },
        "id": "fvtE6OYWuQFw"
      },
      "outputs": [],
      "source": [
        "from midi_utils import midiread, midiwrite\n",
        "from matplotlib import pyplot as plt\n",
        "# import skimage.io as io\n",
        "from IPython.display import FileLink\n",
        "os.environ[\"CUDA_VISIBLE_DEVICES\"] = '0'"
      ]
    },
    {
      "cell_type": "markdown",
      "metadata": {
        "id": "2t4kSnxPuQFw"
      },
      "source": [
        "# DataLoader"
      ]
    },
    {
      "cell_type": "code",
      "execution_count": 11,
      "metadata": {
        "ExecuteTime": {
          "end_time": "2018-11-27T12:20:52.867674Z",
          "start_time": "2018-11-27T12:20:52.819795Z"
        },
        "id": "XUl4VPluuQFy"
      },
      "outputs": [],
      "source": [
        "import numpy as np\n",
        "import torch\n",
        "import torch.utils.data as data\n",
        "\n",
        "\n",
        "def midi_filename_to_piano_roll(midi_filename):\n",
        "    \n",
        "    midi_data = midiread(midi_filename, dt=0.3)\n",
        "    \n",
        "    piano_roll = midi_data.piano_roll.transpose()\n",
        "    \n",
        "    # Pressed notes are replaced by 1\n",
        "    piano_roll[piano_roll > 0] = 1\n",
        "    \n",
        "    return piano_roll\n",
        "\n",
        "\n",
        "def pad_piano_roll(piano_roll, max_length=132333, pad_value=0):\n",
        "        \n",
        "    original_piano_roll_length = piano_roll.shape[1]\n",
        "    \n",
        "    padded_piano_roll = np.zeros((88, max_length))\n",
        "    padded_piano_roll[:] = pad_value\n",
        "    \n",
        "    padded_piano_roll[:, -original_piano_roll_length:] = piano_roll\n",
        "\n",
        "    return padded_piano_roll\n",
        "\n",
        "\n",
        "class NotesGenerationDataset(data.Dataset):\n",
        "    \n",
        "    def __init__(self, midi_folder_path, longest_sequence_length=1491):\n",
        "        \n",
        "        self.midi_folder_path = midi_folder_path\n",
        "        \n",
        "        midi_filenames = os.listdir(midi_folder_path)\n",
        "        \n",
        "        self.longest_sequence_length = longest_sequence_length\n",
        "        \n",
        "        midi_full_filenames = map(lambda filename: os.path.join(midi_folder_path, filename),midi_filenames)\n",
        "        \n",
        "        self.midi_full_filenames = list(midi_full_filenames)\n",
        "        \n",
        "        if longest_sequence_length is None:\n",
        "            \n",
        "            self.update_the_max_length()\n",
        "    \n",
        "    \n",
        "    def update_the_max_length(self):\n",
        "        \n",
        "        sequences_lengths = map(lambda filename: midi_filename_to_piano_roll(filename).shape[1],self.midi_full_filenames)\n",
        "        \n",
        "        max_length = max(sequences_lengths)\n",
        "        \n",
        "        self.longest_sequence_length = max_length\n",
        "                \n",
        "    \n",
        "    def __len__(self):\n",
        "        \n",
        "        return len(self.midi_full_filenames)\n",
        "    \n",
        "    def __getitem__(self, index):\n",
        "        \n",
        "        midi_full_filename = self.midi_full_filenames[index]\n",
        "        \n",
        "        piano_roll = midi_filename_to_piano_roll(midi_full_filename)\n",
        "        \n",
        "        # Shifting by one time step\n",
        "        sequence_length = piano_roll.shape[1] - 1\n",
        "        \n",
        "        # Shifting by one time step\n",
        "        input_sequence = piano_roll[:, :-1]\n",
        "        ground_truth_sequence = piano_roll[:, 1:]\n",
        "                \n",
        "        # padding sequence so that all of them have the same length\n",
        "        input_sequence_padded = pad_piano_roll(input_sequence, max_length=self.longest_sequence_length)\n",
        "        \n",
        "        ground_truth_sequence_padded = pad_piano_roll(ground_truth_sequence,max_length=self.longest_sequence_length,pad_value=-100)\n",
        "                \n",
        "        input_sequence_padded = input_sequence_padded.transpose()\n",
        "        ground_truth_sequence_padded = ground_truth_sequence_padded.transpose()\n",
        "        \n",
        "        return (torch.FloatTensor(input_sequence_padded),torch.LongTensor(ground_truth_sequence_padded),torch.LongTensor([sequence_length]) )\n",
        "\n",
        "    \n",
        "def post_process_sequence_batch(batch_tuple):\n",
        "    \n",
        "    input_sequences, output_sequences, lengths = batch_tuple\n",
        "    \n",
        "    splitted_input_sequence_batch = input_sequences.split(split_size=1)\n",
        "    splitted_output_sequence_batch = output_sequences.split(split_size=1)\n",
        "    splitted_lengths_batch = lengths.split(split_size=1)\n",
        "\n",
        "    training_data_tuples = zip(splitted_input_sequence_batch,\n",
        "                               splitted_output_sequence_batch,\n",
        "                               splitted_lengths_batch)\n",
        "\n",
        "    training_data_tuples_sorted = sorted(training_data_tuples,\n",
        "                                         key=lambda p: int(p[2]),\n",
        "                                         reverse=True)\n",
        "\n",
        "    splitted_input_sequence_batch, splitted_output_sequence_batch, splitted_lengths_batch = zip(*training_data_tuples_sorted)\n",
        "\n",
        "    input_sequence_batch_sorted = torch.cat(splitted_input_sequence_batch)\n",
        "    output_sequence_batch_sorted = torch.cat(splitted_output_sequence_batch)\n",
        "    lengths_batch_sorted = torch.cat(splitted_lengths_batch)\n",
        "    \n",
        "    input_sequence_batch_sorted = input_sequence_batch_sorted[:, -lengths_batch_sorted[0, 0]:, :]\n",
        "    output_sequence_batch_sorted = output_sequence_batch_sorted[:, -lengths_batch_sorted[0, 0]:, :]\n",
        "    \n",
        "    input_sequence_batch_transposed = input_sequence_batch_sorted.transpose(0, 1)\n",
        "    \n",
        "    lengths_batch_sorted_list = list(lengths_batch_sorted)\n",
        "    lengths_batch_sorted_list = map(lambda x: int(x), lengths_batch_sorted_list)\n",
        "    \n",
        "    return input_sequence_batch_transposed, output_sequence_batch_sorted, list(lengths_batch_sorted_list)"
      ]
    },
    {
      "cell_type": "code",
      "execution_count": 12,
      "metadata": {
        "id": "5LHGwcxEvB68"
      },
      "outputs": [],
      "source": [
        "%%capture\n",
        "!unzip /content/data.zip"
      ]
    },
    {
      "cell_type": "code",
      "execution_count": 15,
      "metadata": {},
      "outputs": [
        {
          "name": "stdout",
          "output_type": "stream",
          "text": [
            " Volume in drive C has no label.\n",
            " Volume Serial Number is D6A4-532A\n",
            "\n",
            " Directory of c:\\Users\\Midrian\\Documents\\Misc\\Music_generate\\Music-Generation\\notebooks\n",
            "\n",
            "11-05-2023  09:42    <DIR>          .\n",
            "11-05-2023  09:42    <DIR>          ..\n",
            "11-05-2023  09:41    <DIR>          .ipynb_checkpoints\n",
            "11-05-2023  09:51           169,402 DL_OPS_PROJ.ipynb\n",
            "11-05-2023  09:41    <DIR>          Nottingham\n",
            "11-05-2023  09:41             1,485 sample_reg_018.mid\n",
            "11-05-2023  09:41         1,496,546 sample_reg_018.mp3\n",
            "               3 File(s)      1,667,433 bytes\n",
            "               4 Dir(s)  47,065,710,592 bytes free\n"
          ]
        }
      ],
      "source": [
        "!dir"
      ]
    },
    {
      "cell_type": "code",
      "execution_count": 17,
      "metadata": {
        "ExecuteTime": {
          "end_time": "2018-11-27T12:21:07.678124Z",
          "start_time": "2018-11-27T12:20:56.931002Z"
        },
        "id": "noHruaVHuQFz"
      },
      "outputs": [],
      "source": [
        "trainset = NotesGenerationDataset('Nottingham/train', longest_sequence_length=None)\n",
        "\n",
        "trainset_loader = data.DataLoader(trainset, batch_size=8,shuffle=True, drop_last=True)"
      ]
    },
    {
      "cell_type": "code",
      "execution_count": 18,
      "metadata": {
        "ExecuteTime": {
          "end_time": "2018-11-27T12:21:08.232332Z",
          "start_time": "2018-11-27T12:21:07.693745Z"
        },
        "colab": {
          "base_uri": "https://localhost:8080/"
        },
        "id": "orNkG5jluQF2",
        "outputId": "7db039df-d5e9-4b02-ecb3-432044c2f5a3"
      },
      "outputs": [
        {
          "data": {
            "text/plain": [
              "torch.Size([8, 1491, 88])"
            ]
          },
          "execution_count": 18,
          "metadata": {},
          "output_type": "execute_result"
        }
      ],
      "source": [
        "X = next(iter(trainset_loader))\n",
        "X[0].shape"
      ]
    },
    {
      "cell_type": "code",
      "execution_count": 19,
      "metadata": {
        "ExecuteTime": {
          "end_time": "2018-11-27T12:21:11.258476Z",
          "start_time": "2018-11-27T12:21:08.259258Z"
        },
        "id": "MoYBGTlYuQF4"
      },
      "outputs": [],
      "source": [
        "valset = NotesGenerationDataset('Nottingham/valid', longest_sequence_length=None)\n",
        "\n",
        "valset_loader = data.DataLoader(valset, batch_size=8, shuffle=False, drop_last=False)"
      ]
    },
    {
      "cell_type": "code",
      "execution_count": 20,
      "metadata": {
        "ExecuteTime": {
          "end_time": "2018-11-27T12:21:11.406325Z",
          "start_time": "2018-11-27T12:21:11.278687Z"
        },
        "colab": {
          "base_uri": "https://localhost:8080/"
        },
        "id": "dV6L4pRyuQF4",
        "outputId": "90efad66-3ba2-4b85-e5de-e71302bab27a"
      },
      "outputs": [
        {
          "data": {
            "text/plain": [
              "torch.Size([8, 1229, 88])"
            ]
          },
          "execution_count": 20,
          "metadata": {},
          "output_type": "execute_result"
        }
      ],
      "source": [
        "X_val = next(iter(valset_loader))\n",
        "X_val[0].shape"
      ]
    },
    {
      "cell_type": "markdown",
      "metadata": {
        "id": "qgbwmNw4uQF5"
      },
      "source": [
        "# RNN"
      ]
    },
    {
      "cell_type": "code",
      "execution_count": 21,
      "metadata": {
        "ExecuteTime": {
          "end_time": "2018-11-27T12:22:33.314323Z",
          "start_time": "2018-11-27T12:22:33.291386Z"
        },
        "id": "spSibziHuQF6"
      },
      "outputs": [],
      "source": [
        "class RNN(nn.Module):\n",
        "    \n",
        "    def __init__(self, input_size, hidden_size, num_classes, n_layers=2):\n",
        "        \n",
        "        super(RNN, self).__init__()\n",
        "        \n",
        "        self.input_size = input_size\n",
        "        self.hidden_size = hidden_size\n",
        "        self.num_classes = num_classes\n",
        "        self.n_layers = n_layers\n",
        "        \n",
        "        self.notes_encoder = nn.Linear(in_features=input_size, out_features=hidden_size)\n",
        "        \n",
        "        self.bn = nn.BatchNorm1d(hidden_size)\n",
        "        \n",
        "        self.lstm = nn.LSTM(hidden_size, hidden_size, n_layers)\n",
        "        \n",
        "        self.logits_fc = nn.Linear(hidden_size, num_classes)\n",
        "    \n",
        "    \n",
        "    def forward(self, input_sequences, input_sequences_lengths, hidden=None):\n",
        "        batch_size = input_sequences.shape[1]\n",
        "\n",
        "        notes_encoded = self.notes_encoder(input_sequences)\n",
        "        \n",
        "        notes_encoded_rolled = notes_encoded.permute(1,2,0).contiguous()\n",
        "        notes_encoded_norm = self.bn(notes_encoded_rolled)\n",
        "        \n",
        "        notes_encoded_norm_drop = nn.Dropout(0.25)(notes_encoded_norm)\n",
        "        notes_encoded_complete = notes_encoded_norm_drop.permute(2,0,1)\n",
        "        \n",
        "        # Here we run rnns only on non-padded regions of the batch\n",
        "        packed = torch.nn.utils.rnn.pack_padded_sequence(notes_encoded_complete, input_sequences_lengths)\n",
        "        outputs, hidden = self.lstm(packed, hidden)\n",
        "        \n",
        "        # Here we unpack sequence(back to padded)\n",
        "        outputs, output_lengths = torch.nn.utils.rnn.pad_packed_sequence(outputs)\n",
        "        \n",
        "        outputs_norm = self.bn(outputs.permute(1,2,0).contiguous())\n",
        "        outputs_drop = nn.Dropout(0.1)(outputs_norm)\n",
        "        logits = self.logits_fc(outputs_drop.permute(2,0,1))\n",
        "        logits = logits.transpose(0, 1).contiguous()\n",
        "        \n",
        "        neg_logits = (1 - logits)\n",
        "        \n",
        "        # Since the BCE loss doesn't support masking,crossentropy is used\n",
        "        binary_logits = torch.stack((logits, neg_logits), dim=3).contiguous()\n",
        "        logits_flatten = binary_logits.view(-1, 2)\n",
        "        return logits_flatten, hidden"
      ]
    },
    {
      "cell_type": "code",
      "execution_count": 22,
      "metadata": {
        "ExecuteTime": {
          "end_time": "2018-11-27T12:22:57.954631Z",
          "start_time": "2018-11-27T12:22:36.786295Z"
        },
        "id": "yU8AdPEHuQF7"
      },
      "outputs": [],
      "source": [
        "model = RNN(input_size=88, hidden_size=512, num_classes=88).cuda()\n",
        "\n",
        "criterion = nn.CrossEntropyLoss().cuda()\n",
        "criterion_val = nn.CrossEntropyLoss().cuda()"
      ]
    },
    {
      "cell_type": "code",
      "execution_count": 23,
      "metadata": {
        "ExecuteTime": {
          "end_time": "2018-11-27T12:22:58.002722Z",
          "start_time": "2018-11-27T12:22:57.987764Z"
        },
        "id": "WUVeG7qkuQF7"
      },
      "outputs": [],
      "source": [
        "def validate(model):\n",
        "    model.eval()\n",
        "    full_val_loss = 0.0\n",
        "    overall_sequence_length = 0.0\n",
        "\n",
        "    for batch in valset_loader:\n",
        "\n",
        "        post_processed_batch_tuple = post_process_sequence_batch(batch)\n",
        "\n",
        "        input_sequences_batch, output_sequences_batch, sequences_lengths = post_processed_batch_tuple\n",
        "\n",
        "        output_sequences_batch_var =  Variable( output_sequences_batch.contiguous().view(-1).cuda() )\n",
        "\n",
        "        input_sequences_batch_var = Variable( input_sequences_batch.cuda() )\n",
        "\n",
        "        logits, _ = model(input_sequences_batch_var, sequences_lengths)\n",
        "\n",
        "        loss = criterion_val(logits, output_sequences_batch_var)\n",
        "\n",
        "        full_val_loss += loss.item()\n",
        "        overall_sequence_length += sum(sequences_lengths)\n",
        "\n",
        "    return full_val_loss / (overall_sequence_length * 88)"
      ]
    },
    {
      "cell_type": "code",
      "execution_count": 24,
      "metadata": {
        "ExecuteTime": {
          "end_time": "2018-11-27T12:23:12.210378Z",
          "start_time": "2018-11-27T12:22:58.040622Z"
        },
        "colab": {
          "base_uri": "https://localhost:8080/"
        },
        "id": "EQffmpKiuQF8",
        "outputId": "d262c8e0-67a1-48a3-a0c8-66b42533a87b"
      },
      "outputs": [
        {
          "data": {
            "text/plain": [
              "8.389120728451772e-06"
            ]
          },
          "execution_count": 24,
          "metadata": {},
          "output_type": "execute_result"
        }
      ],
      "source": [
        "validate(model)"
      ]
    },
    {
      "cell_type": "code",
      "execution_count": 25,
      "metadata": {
        "ExecuteTime": {
          "end_time": "2018-11-27T12:23:12.255258Z",
          "start_time": "2018-11-27T12:23:12.244288Z"
        },
        "id": "HgxmAFb_uQF8"
      },
      "outputs": [],
      "source": [
        "clip = 1.0\n",
        "epochs_number = 2\n",
        "sample_history = []\n",
        "best_val_loss = float(\"inf\")"
      ]
    },
    {
      "cell_type": "code",
      "execution_count": 92,
      "metadata": {
        "ExecuteTime": {
          "end_time": "2018-11-27T12:23:18.442825Z",
          "start_time": "2018-11-27T12:23:18.430860Z"
        },
        "id": "9eI4e0XCuQF9"
      },
      "outputs": [],
      "source": [
        "def lrfinder(start, end, model, trainset_loader, epochs=2):\n",
        "    model.train() # into training mode\n",
        "    lrs = np.linspace(start, end, epochs*len(trainset_loader))\n",
        "    parameters = filter(lambda p: p.requires_grad, model.parameters()) # get all parameters which need grad\n",
        "    optimizer = torch.optim.Adam(rnn.parameters(),start)\n",
        "    loss_list = []\n",
        "    ctr = 0\n",
        "    \n",
        "    for epoch_number in range(epochs):\n",
        "        epoch_loss = []\n",
        "        for batch in trainset_loader:\n",
        "            optimizer.param_groups[0]['lr'] = lrs[ctr]\n",
        "            ctr = ctr+1\n",
        "\n",
        "            post_processed_batch_tuple = post_process_sequence_batch(batch)\n",
        "\n",
        "            input_sequences_batch, output_sequences_batch, sequences_lengths = post_processed_batch_tuple\n",
        "\n",
        "            output_sequences_batch_var =  Variable( output_sequences_batch.contiguous().view(-1).cuda() )\n",
        "\n",
        "            input_sequences_batch_var = Variable( input_sequences_batch.cuda() )\n",
        "\n",
        "            optimizer.zero_grad()\n",
        "\n",
        "            logits, _ = model(input_sequences_batch_var, sequences_lengths)\n",
        "\n",
        "            loss = criterion(logits, output_sequences_batch_var)\n",
        "            loss_list.append(loss.item())\n",
        "            loss.backward()\n",
        "\n",
        "            torch.nn.utils.clip_grad_norm_(rnn.parameters(), clip)\n",
        "\n",
        "            optimizer.step()\n",
        "        print('Epoch %d' % epoch_number)\n",
        "    plt.plot(lrs, loss_list)\n",
        "    return lrs, loss_list"
      ]
    },
    {
      "cell_type": "code",
      "execution_count": 93,
      "metadata": {
        "ExecuteTime": {
          "end_time": "2018-11-26T16:13:45.182544Z",
          "start_time": "2018-11-26T16:11:13.582351Z"
        },
        "colab": {
          "base_uri": "https://localhost:8080/",
          "height": 604
        },
        "id": "xQ4Axr9_uQF9",
        "outputId": "c1c8a478-e201-46d0-e951-f0641e705e2d"
      },
      "outputs": [
        {
          "name": "stdout",
          "output_type": "stream",
          "text": [
            "Epoch 0\n",
            "Epoch 1\n",
            "Epoch 2\n",
            "Epoch 3\n",
            "Epoch 4\n",
            "Epoch 5\n",
            "Epoch 6\n",
            "Epoch 7\n",
            "Epoch 8\n",
            "Epoch 9\n"
          ]
        },
        {
          "data": {
            "image/png": "[encoded data removed]",
            "text/plain": [
              "<Figure size 640x480 with 1 Axes>"
            ]
          },
          "metadata": {},
          "output_type": "display_data"
        }
      ],
      "source": [
        "rnn = RNN(input_size=88, hidden_size=512, num_classes=88)\n",
        "rnn = rnn.cuda()\n",
        "lrs, losses = lrfinder(1e-4, 1e-1*5, rnn, trainset_loader,10)"
      ]
    },
    {
      "cell_type": "code",
      "execution_count": 28,
      "metadata": {
        "ExecuteTime": {
          "end_time": "2018-11-26T16:16:14.159868Z",
          "start_time": "2018-11-26T16:16:13.950619Z"
        },
        "colab": {
          "base_uri": "https://localhost:8080/",
          "height": 447
        },
        "id": "PYmrr1_5uQF-",
        "outputId": "91180605-d66d-44ca-830b-56054b44a046"
      },
      "outputs": [
        {
          "data": {
            "text/plain": [
              "[<matplotlib.lines.Line2D at 0x1dc05326670>]"
            ]
          },
          "execution_count": 28,
          "metadata": {},
          "output_type": "execute_result"
        },
        {
          "data": {
            "image/png": "[encoded data removed]",
            "text/plain": [
              "<Figure size 640x480 with 1 Axes>"
            ]
          },
          "metadata": {},
          "output_type": "display_data"
        }
      ],
      "source": [
        "plt.plot(lrs[:15], losses[:15])"
      ]
    },
    {
      "cell_type": "code",
      "execution_count": 29,
      "metadata": {
        "ExecuteTime": {
          "end_time": "2018-11-26T16:16:15.631943Z",
          "start_time": "2018-11-26T16:16:15.434830Z"
        },
        "colab": {
          "base_uri": "https://localhost:8080/",
          "height": 447
        },
        "id": "BK0pOPOJuQF-",
        "outputId": "377cbd26-86e8-4587-939a-fa8091f0d4c6"
      },
      "outputs": [
        {
          "data": {
            "text/plain": [
              "[<matplotlib.lines.Line2D at 0x1dc053aefa0>]"
            ]
          },
          "execution_count": 29,
          "metadata": {},
          "output_type": "execute_result"
        },
        {
          "data": {
            "image/png": "[encoded data removed]",
            "text/plain": [
              "<Figure size 640x480 with 1 Axes>"
            ]
          },
          "metadata": {},
          "output_type": "display_data"
        }
      ],
      "source": [
        "def get_triangular_lr(lr_low, lr_high, mini_batches):\n",
        "    iterations = mini_batches\n",
        "    lr_mid = lr_high/7 + lr_low\n",
        "    up = np.linspace(lr_low, lr_high, int(round(iterations*0.35)))\n",
        "    down = np.linspace(lr_high, lr_mid, int(round(iterations*0.35)))\n",
        "    floor = np.linspace(lr_mid, lr_low, int(round(iterations*0.30)))\n",
        "    return np.hstack([up, down[1:], floor])\n",
        "\n",
        "lrs_triangular = get_triangular_lr(1e-2, 1e-2*3.5, len(trainset_loader))\n",
        "plt.plot(lrs_triangular)"
      ]
    },
    {
      "cell_type": "code",
      "execution_count": 30,
      "metadata": {
        "ExecuteTime": {
          "end_time": "2018-11-26T16:16:17.208992Z",
          "start_time": "2018-11-26T16:16:17.204006Z"
        },
        "id": "Fe2RcGWbuQF_"
      },
      "outputs": [],
      "source": [
        "clip = 1.0"
      ]
    },
    {
      "cell_type": "code",
      "execution_count": 82,
      "metadata": {
        "ExecuteTime": {
          "end_time": "2018-11-26T16:16:18.949227Z",
          "start_time": "2018-11-26T16:16:18.930281Z"
        },
        "id": "yy6siVGGuQF_"
      },
      "outputs": [],
      "source": [
        "def train_model(model, lrs_triangular, epochs_number=2, wd=0.0, best_val_loss=float(\"inf\")):\n",
        "    loss_list = []\n",
        "    val_list =[]\n",
        "    optimizer = torch.optim.Adam(rnn.parameters(), lr=lrs_triangular[0], weight_decay=wd)\n",
        "    for epoch_number in range(epochs_number):\n",
        "        model.train()\n",
        "        epoch_loss = []\n",
        "        for lr, batch in zip(lrs_triangular, trainset_loader):\n",
        "            optimizer.param_groups[0]['lr'] = lr\n",
        "\n",
        "            post_processed_batch_tuple = post_process_sequence_batch(batch)\n",
        "\n",
        "            input_sequences_batch, output_sequences_batch, sequences_lengths = post_processed_batch_tuple\n",
        "\n",
        "            output_sequences_batch_var =  Variable( output_sequences_batch.contiguous().view(-1).cuda() )\n",
        "\n",
        "            input_sequences_batch_var = Variable( input_sequences_batch.cuda() )\n",
        "\n",
        "            optimizer.zero_grad()\n",
        "\n",
        "            logits, _ = model(input_sequences_batch_var, sequences_lengths)\n",
        "\n",
        "            loss = criterion(logits, output_sequences_batch_var)\n",
        "            loss_list.append(loss.item())\n",
        "            epoch_loss.append(loss.item())\n",
        "            loss.backward()\n",
        "\n",
        "            torch.nn.utils.clip_grad_norm_(model.parameters(), clip)\n",
        "\n",
        "            optimizer.step()\n",
        "\n",
        "        current_trn_epoch = sum(epoch_loss)/len(trainset_loader)\n",
        "        print('Training Loss: Epoch:',epoch_number,':', current_trn_epoch)\n",
        "\n",
        "        current_val_loss = validate(model)\n",
        "        print('Validation Loss: Epoch:',epoch_number,':', current_val_loss)\n",
        "        print('')\n",
        "\n",
        "        val_list.append(current_val_loss)\n",
        "\n",
        "        if current_val_loss < best_val_loss:\n",
        "\n",
        "            torch.save(model.state_dict(), 'music_model_padfront_regularized.pth')\n",
        "            best_val_loss = current_val_loss\n",
        "    return best_val_loss"
      ]
    },
    {
      "cell_type": "code",
      "execution_count": 83,
      "metadata": {
        "ExecuteTime": {
          "end_time": "2018-11-26T16:19:05.465667Z",
          "start_time": "2018-11-26T16:16:20.312589Z"
        },
        "colab": {
          "base_uri": "https://localhost:8080/"
        },
        "id": "EiXrEETbuQGA",
        "outputId": "0955c7ff-72f2-4025-fbad-f86512f83f93"
      },
      "outputs": [
        {
          "name": "stdout",
          "output_type": "stream",
          "text": [
            "Training Loss: Epoch: 0 : 0.2506857624407424\n",
            "Validation Loss: Epoch: 0 : 8.766705601872851e-07\n",
            "\n",
            "Training Loss: Epoch: 1 : 0.10816785649851311\n",
            "Validation Loss: Epoch: 1 : 7.527012258305462e-07\n",
            "\n"
          ]
        }
      ],
      "source": [
        "rnn = RNN(input_size=88, hidden_size=512, num_classes=88)\n",
        "rnn = rnn.cuda()\n",
        "lrs_triangular = get_triangular_lr(1e-2, 1e-2*3.5, len(trainset_loader))\n",
        "best_val_loss = train_model(rnn, lrs_triangular)"
      ]
    },
    {
      "cell_type": "code",
      "execution_count": 84,
      "metadata": {
        "ExecuteTime": {
          "end_time": "2018-11-26T16:21:52.147229Z",
          "start_time": "2018-11-26T16:19:05.617260Z"
        },
        "colab": {
          "base_uri": "https://localhost:8080/"
        },
        "id": "vYo7pgpJuQGB",
        "outputId": "bec021c4-597c-49ec-c153-cfb29c32e801"
      },
      "outputs": [
        {
          "name": "stdout",
          "output_type": "stream",
          "text": [
            "Training Loss: Epoch: 0 : 0.1003997782461865\n",
            "Validation Loss: Epoch: 0 : 6.511186372533424e-07\n",
            "\n",
            "Training Loss: Epoch: 1 : 0.09389164974523145\n",
            "Validation Loss: Epoch: 1 : 6.395137872869898e-07\n",
            "\n"
          ]
        }
      ],
      "source": [
        "lrs_triangular = get_triangular_lr(1e-3, 1e-2, len(trainset_loader))\n",
        "best_val_loss = train_model(rnn, lrs_triangular, epochs_number=2, wd=1e-4, best_val_loss=best_val_loss)"
      ]
    },
    {
      "cell_type": "code",
      "execution_count": 85,
      "metadata": {
        "ExecuteTime": {
          "end_time": "2018-11-26T16:24:39.239756Z",
          "start_time": "2018-11-26T16:21:52.289423Z"
        },
        "colab": {
          "base_uri": "https://localhost:8080/"
        },
        "id": "_D5eY1PDuQGB",
        "outputId": "032217d7-f51d-458f-d620-8a7375e4be78"
      },
      "outputs": [
        {
          "name": "stdout",
          "output_type": "stream",
          "text": [
            "Training Loss: Epoch: 0 : 0.09753975722678872\n",
            "Validation Loss: Epoch: 0 : 6.456468967485227e-07\n",
            "\n",
            "Training Loss: Epoch: 1 : 0.09737290927143984\n",
            "Validation Loss: Epoch: 1 : 6.400946347952759e-07\n",
            "\n",
            "Training Loss: Epoch: 2 : 0.09839531909241232\n",
            "Validation Loss: Epoch: 2 : 6.397524861479503e-07\n",
            "\n"
          ]
        }
      ],
      "source": [
        "lrs_triangular = get_triangular_lr(1e-4, 1e-2, len(trainset_loader))\n",
        "best_val_loss = train_model(rnn, lrs_triangular, epochs_number=3, wd=1e-4*5, best_val_loss=best_val_loss)"
      ]
    },
    {
      "cell_type": "code",
      "execution_count": 86,
      "metadata": {
        "ExecuteTime": {
          "end_time": "2018-11-26T16:15:52.123518Z",
          "start_time": "2018-11-26T16:11:03.940Z"
        },
        "colab": {
          "base_uri": "https://localhost:8080/"
        },
        "id": "dOHebCWLuQGB",
        "outputId": "953800e0-0289-4b84-c8e8-c3c3cfeacf46"
      },
      "outputs": [],
      "source": [
        "torch.save(rnn.state_dict(), 'Music_model.pth')"
      ]
    },
    {
      "cell_type": "code",
      "execution_count": 94,
      "metadata": {},
      "outputs": [
        {
          "data": {
            "text/plain": [
              "<All keys matched successfully>"
            ]
          },
          "execution_count": 94,
          "metadata": {},
          "output_type": "execute_result"
        }
      ],
      "source": [
        "\n",
        "rnn = RNN(input_size=88, hidden_size=512, num_classes=88)\n",
        "rnn = rnn.cuda()\n",
        "rnn.load_state_dict(torch.load('Music_model.pth'))"
      ]
    },
    {
      "cell_type": "markdown",
      "metadata": {
        "id": "uQhzcxY3uQGC"
      },
      "source": [
        "# Validation"
      ]
    },
    {
      "cell_type": "code",
      "execution_count": 95,
      "metadata": {
        "ExecuteTime": {
          "end_time": "2018-11-26T16:25:11.202962Z",
          "start_time": "2018-11-26T16:25:11.189993Z"
        },
        "id": "hMw8ofTxuQGC"
      },
      "outputs": [],
      "source": [
        "def sample_from_piano_rnn(rnn, sample_length=4, temperature=1, starting_sequence=None):\n",
        "    with torch.no_grad():\n",
        "        if starting_sequence is None:\n",
        "                    \n",
        "            current_sequence_input = torch.zeros(1, 1, 88)\n",
        "            current_sequence_input[0, 0, 40] = 1\n",
        "            current_sequence_input[0, 0, 50] = 0\n",
        "            current_sequence_input[0, 0, 56] = 0\n",
        "            current_sequence_input = Variable(current_sequence_input.cuda())\n",
        "        else:\n",
        "            current_sequence_input = starting_sequence\n",
        "            \n",
        "        final_output_sequence = [current_sequence_input.data.squeeze(1)]\n",
        "\n",
        "        hidden = None\n",
        "\n",
        "        for i in range(sample_length):\n",
        "\n",
        "            output, hidden = rnn(current_sequence_input, [1], hidden)\n",
        "\n",
        "            probabilities = nn.functional.softmax(output.div(temperature), dim=1)\n",
        "\n",
        "            current_sequence_input = torch.multinomial(probabilities.data, 1).squeeze().unsqueeze(0).unsqueeze(1)\n",
        "\n",
        "            current_sequence_input = Variable(current_sequence_input.float())\n",
        "\n",
        "            final_output_sequence.append(current_sequence_input.data.squeeze(1))\n",
        "\n",
        "        sampled_sequence = torch.cat(final_output_sequence, dim=0).cpu().numpy()\n",
        "        \n",
        "        return sampled_sequence"
      ]
    },
    {
      "cell_type": "code",
      "execution_count": 96,
      "metadata": {
        "ExecuteTime": {
          "end_time": "2018-11-26T16:25:16.419484Z",
          "start_time": "2018-11-26T16:25:14.709507Z"
        },
        "id": "Okp7KN6ZuQGC"
      },
      "outputs": [],
      "source": [
        "testset = NotesGenerationDataset('Nottingham/test', longest_sequence_length=None)\n",
        "\n",
        "testset_loader = torch.utils.data.DataLoader(testset, batch_size=1,shuffle=True, drop_last=False)"
      ]
    },
    {
      "cell_type": "code",
      "execution_count": 97,
      "metadata": {
        "ExecuteTime": {
          "end_time": "2018-11-26T16:25:18.156725Z",
          "start_time": "2018-11-26T16:25:17.906750Z"
        },
        "colab": {
          "base_uri": "https://localhost:8080/"
        },
        "id": "6oYjCLBKuQGD",
        "outputId": "477d5ea6-9e12-411d-d365-57e29516e3f8"
      },
      "outputs": [
        {
          "data": {
            "text/plain": [
              "torch.Size([160, 1, 88])"
            ]
          },
          "execution_count": 97,
          "metadata": {},
          "output_type": "execute_result"
        }
      ],
      "source": [
        "batch = next(iter(testset_loader))\n",
        "post_processed_batch_tuple = post_process_sequence_batch(batch)\n",
        "\n",
        "input_sequences_batch, output_sequences_batch, sequences_lengths = post_processed_batch_tuple\n",
        "\n",
        "output_sequences_batch_var =  output_sequences_batch.contiguous().view(-1).cuda()\n",
        "\n",
        "input_sequences_batch_var = input_sequences_batch.cuda()\n",
        "input_sequences_batch_var.shape"
      ]
    },
    {
      "cell_type": "code",
      "execution_count": 98,
      "metadata": {
        "ExecuteTime": {
          "end_time": "2018-11-26T16:25:33.195424Z",
          "start_time": "2018-11-26T16:25:32.923613Z"
        },
        "colab": {
          "base_uri": "https://localhost:8080/",
          "height": 286
        },
        "id": "GHJ7aAytuQGD",
        "outputId": "655fbfeb-b506-489c-c393-df5aa8a5f790"
      },
      "outputs": [
        {
          "data": {
            "text/plain": [
              "<matplotlib.image.AxesImage at 0x1dcaff2f820>"
            ]
          },
          "execution_count": 98,
          "metadata": {},
          "output_type": "execute_result"
        },
        {
          "data": {
            "image/png": "[encoded data removed]",
            "text/plain": [
              "<Figure size 640x480 with 1 Axes>"
            ]
          },
          "metadata": {},
          "output_type": "display_data"
        }
      ],
      "source": [
        "plt.imshow(input_sequences_batch_var.reshape((input_sequences_batch_var.shape[0],88)).cpu().transpose(0,1))"
      ]
    },
    {
      "cell_type": "code",
      "execution_count": 99,
      "metadata": {
        "ExecuteTime": {
          "end_time": "2018-11-26T16:25:36.632928Z",
          "start_time": "2018-11-26T16:25:34.966547Z"
        },
        "colab": {
          "base_uri": "https://localhost:8080/",
          "height": 314
        },
        "id": "-VarOCihuQGE",
        "outputId": "1426c31c-bf76-48fa-d264-951b8291fbb5"
      },
      "outputs": [
        {
          "ename": "ValueError",
          "evalue": "Expected more than 1 value per channel when training, got input size torch.Size([1, 512, 1])",
          "output_type": "error",
          "traceback": [
            "\u001b[1;31m---------------------------------------------------------------------------\u001b[0m",
            "\u001b[1;31mValueError\u001b[0m                                Traceback (most recent call last)",
            "Cell \u001b[1;32mIn[99], line 1\u001b[0m\n\u001b[1;32m----> 1\u001b[0m sample \u001b[39m=\u001b[39m sample_from_piano_rnn(rnn, sample_length\u001b[39m=\u001b[39;49m\u001b[39m200\u001b[39;49m, temperature\u001b[39m=\u001b[39;49m\u001b[39m1\u001b[39;49m,starting_sequence\u001b[39m=\u001b[39;49m\u001b[39mNone\u001b[39;49;00m)\u001b[39m.\u001b[39mtranspose()\n\u001b[0;32m      2\u001b[0m \u001b[39m# io.imshow(sample)\u001b[39;00m\n\u001b[0;32m      3\u001b[0m midiwrite(\u001b[39m'\u001b[39m\u001b[39msample_reg_018.mid\u001b[39m\u001b[39m'\u001b[39m, sample\u001b[39m.\u001b[39mtranspose(), dt\u001b[39m=\u001b[39m\u001b[39m0.3\u001b[39m)\n",
            "Cell \u001b[1;32mIn[95], line 19\u001b[0m, in \u001b[0;36msample_from_piano_rnn\u001b[1;34m(rnn, sample_length, temperature, starting_sequence)\u001b[0m\n\u001b[0;32m     15\u001b[0m hidden \u001b[39m=\u001b[39m \u001b[39mNone\u001b[39;00m\n\u001b[0;32m     17\u001b[0m \u001b[39mfor\u001b[39;00m i \u001b[39min\u001b[39;00m \u001b[39mrange\u001b[39m(sample_length):\n\u001b[1;32m---> 19\u001b[0m     output, hidden \u001b[39m=\u001b[39m rnn(current_sequence_input, [\u001b[39m1\u001b[39;49m], hidden)\n\u001b[0;32m     21\u001b[0m     probabilities \u001b[39m=\u001b[39m nn\u001b[39m.\u001b[39mfunctional\u001b[39m.\u001b[39msoftmax(output\u001b[39m.\u001b[39mdiv(temperature), dim\u001b[39m=\u001b[39m\u001b[39m1\u001b[39m)\n\u001b[0;32m     23\u001b[0m     current_sequence_input \u001b[39m=\u001b[39m torch\u001b[39m.\u001b[39mmultinomial(probabilities\u001b[39m.\u001b[39mdata, \u001b[39m1\u001b[39m)\u001b[39m.\u001b[39msqueeze()\u001b[39m.\u001b[39munsqueeze(\u001b[39m0\u001b[39m)\u001b[39m.\u001b[39munsqueeze(\u001b[39m1\u001b[39m)\n",
            "File \u001b[1;32me:\\Development\\ML-env-py\\torchenvpy39\\lib\\site-packages\\torch\\nn\\modules\\module.py:1501\u001b[0m, in \u001b[0;36mModule._call_impl\u001b[1;34m(self, *args, **kwargs)\u001b[0m\n\u001b[0;32m   1496\u001b[0m \u001b[39m# If we don't have any hooks, we want to skip the rest of the logic in\u001b[39;00m\n\u001b[0;32m   1497\u001b[0m \u001b[39m# this function, and just call forward.\u001b[39;00m\n\u001b[0;32m   1498\u001b[0m \u001b[39mif\u001b[39;00m \u001b[39mnot\u001b[39;00m (\u001b[39mself\u001b[39m\u001b[39m.\u001b[39m_backward_hooks \u001b[39mor\u001b[39;00m \u001b[39mself\u001b[39m\u001b[39m.\u001b[39m_backward_pre_hooks \u001b[39mor\u001b[39;00m \u001b[39mself\u001b[39m\u001b[39m.\u001b[39m_forward_hooks \u001b[39mor\u001b[39;00m \u001b[39mself\u001b[39m\u001b[39m.\u001b[39m_forward_pre_hooks\n\u001b[0;32m   1499\u001b[0m         \u001b[39mor\u001b[39;00m _global_backward_pre_hooks \u001b[39mor\u001b[39;00m _global_backward_hooks\n\u001b[0;32m   1500\u001b[0m         \u001b[39mor\u001b[39;00m _global_forward_hooks \u001b[39mor\u001b[39;00m _global_forward_pre_hooks):\n\u001b[1;32m-> 1501\u001b[0m     \u001b[39mreturn\u001b[39;00m forward_call(\u001b[39m*\u001b[39margs, \u001b[39m*\u001b[39m\u001b[39m*\u001b[39mkwargs)\n\u001b[0;32m   1502\u001b[0m \u001b[39m# Do not call functions when jit is used\u001b[39;00m\n\u001b[0;32m   1503\u001b[0m full_backward_hooks, non_full_backward_hooks \u001b[39m=\u001b[39m [], []\n",
            "Cell \u001b[1;32mIn[21], line 27\u001b[0m, in \u001b[0;36mRNN.forward\u001b[1;34m(self, input_sequences, input_sequences_lengths, hidden)\u001b[0m\n\u001b[0;32m     24\u001b[0m notes_encoded \u001b[39m=\u001b[39m \u001b[39mself\u001b[39m\u001b[39m.\u001b[39mnotes_encoder(input_sequences)\n\u001b[0;32m     26\u001b[0m notes_encoded_rolled \u001b[39m=\u001b[39m notes_encoded\u001b[39m.\u001b[39mpermute(\u001b[39m1\u001b[39m,\u001b[39m2\u001b[39m,\u001b[39m0\u001b[39m)\u001b[39m.\u001b[39mcontiguous()\n\u001b[1;32m---> 27\u001b[0m notes_encoded_norm \u001b[39m=\u001b[39m \u001b[39mself\u001b[39;49m\u001b[39m.\u001b[39;49mbn(notes_encoded_rolled)\n\u001b[0;32m     29\u001b[0m notes_encoded_norm_drop \u001b[39m=\u001b[39m nn\u001b[39m.\u001b[39mDropout(\u001b[39m0.25\u001b[39m)(notes_encoded_norm)\n\u001b[0;32m     30\u001b[0m notes_encoded_complete \u001b[39m=\u001b[39m notes_encoded_norm_drop\u001b[39m.\u001b[39mpermute(\u001b[39m2\u001b[39m,\u001b[39m0\u001b[39m,\u001b[39m1\u001b[39m)\n",
            "File \u001b[1;32me:\\Development\\ML-env-py\\torchenvpy39\\lib\\site-packages\\torch\\nn\\modules\\module.py:1501\u001b[0m, in \u001b[0;36mModule._call_impl\u001b[1;34m(self, *args, **kwargs)\u001b[0m\n\u001b[0;32m   1496\u001b[0m \u001b[39m# If we don't have any hooks, we want to skip the rest of the logic in\u001b[39;00m\n\u001b[0;32m   1497\u001b[0m \u001b[39m# this function, and just call forward.\u001b[39;00m\n\u001b[0;32m   1498\u001b[0m \u001b[39mif\u001b[39;00m \u001b[39mnot\u001b[39;00m (\u001b[39mself\u001b[39m\u001b[39m.\u001b[39m_backward_hooks \u001b[39mor\u001b[39;00m \u001b[39mself\u001b[39m\u001b[39m.\u001b[39m_backward_pre_hooks \u001b[39mor\u001b[39;00m \u001b[39mself\u001b[39m\u001b[39m.\u001b[39m_forward_hooks \u001b[39mor\u001b[39;00m \u001b[39mself\u001b[39m\u001b[39m.\u001b[39m_forward_pre_hooks\n\u001b[0;32m   1499\u001b[0m         \u001b[39mor\u001b[39;00m _global_backward_pre_hooks \u001b[39mor\u001b[39;00m _global_backward_hooks\n\u001b[0;32m   1500\u001b[0m         \u001b[39mor\u001b[39;00m _global_forward_hooks \u001b[39mor\u001b[39;00m _global_forward_pre_hooks):\n\u001b[1;32m-> 1501\u001b[0m     \u001b[39mreturn\u001b[39;00m forward_call(\u001b[39m*\u001b[39margs, \u001b[39m*\u001b[39m\u001b[39m*\u001b[39mkwargs)\n\u001b[0;32m   1502\u001b[0m \u001b[39m# Do not call functions when jit is used\u001b[39;00m\n\u001b[0;32m   1503\u001b[0m full_backward_hooks, non_full_backward_hooks \u001b[39m=\u001b[39m [], []\n",
            "File \u001b[1;32me:\\Development\\ML-env-py\\torchenvpy39\\lib\\site-packages\\torch\\nn\\modules\\batchnorm.py:171\u001b[0m, in \u001b[0;36m_BatchNorm.forward\u001b[1;34m(self, input)\u001b[0m\n\u001b[0;32m    164\u001b[0m     bn_training \u001b[39m=\u001b[39m (\u001b[39mself\u001b[39m\u001b[39m.\u001b[39mrunning_mean \u001b[39mis\u001b[39;00m \u001b[39mNone\u001b[39;00m) \u001b[39mand\u001b[39;00m (\u001b[39mself\u001b[39m\u001b[39m.\u001b[39mrunning_var \u001b[39mis\u001b[39;00m \u001b[39mNone\u001b[39;00m)\n\u001b[0;32m    166\u001b[0m \u001b[39m\u001b[39m\u001b[39mr\u001b[39m\u001b[39m\"\"\"\u001b[39;00m\n\u001b[0;32m    167\u001b[0m \u001b[39mBuffers are only updated if they are to be tracked and we are in training mode. Thus they only need to be\u001b[39;00m\n\u001b[0;32m    168\u001b[0m \u001b[39mpassed when the update should occur (i.e. in training mode when they are tracked), or when buffer stats are\u001b[39;00m\n\u001b[0;32m    169\u001b[0m \u001b[39mused for normalization (i.e. in eval mode when buffers are not None).\u001b[39;00m\n\u001b[0;32m    170\u001b[0m \u001b[39m\"\"\"\u001b[39;00m\n\u001b[1;32m--> 171\u001b[0m \u001b[39mreturn\u001b[39;00m F\u001b[39m.\u001b[39;49mbatch_norm(\n\u001b[0;32m    172\u001b[0m     \u001b[39minput\u001b[39;49m,\n\u001b[0;32m    173\u001b[0m     \u001b[39m# If buffers are not to be tracked, ensure that they won't be updated\u001b[39;49;00m\n\u001b[0;32m    174\u001b[0m     \u001b[39mself\u001b[39;49m\u001b[39m.\u001b[39;49mrunning_mean\n\u001b[0;32m    175\u001b[0m     \u001b[39mif\u001b[39;49;00m \u001b[39mnot\u001b[39;49;00m \u001b[39mself\u001b[39;49m\u001b[39m.\u001b[39;49mtraining \u001b[39mor\u001b[39;49;00m \u001b[39mself\u001b[39;49m\u001b[39m.\u001b[39;49mtrack_running_stats\n\u001b[0;32m    176\u001b[0m     \u001b[39melse\u001b[39;49;00m \u001b[39mNone\u001b[39;49;00m,\n\u001b[0;32m    177\u001b[0m     \u001b[39mself\u001b[39;49m\u001b[39m.\u001b[39;49mrunning_var \u001b[39mif\u001b[39;49;00m \u001b[39mnot\u001b[39;49;00m \u001b[39mself\u001b[39;49m\u001b[39m.\u001b[39;49mtraining \u001b[39mor\u001b[39;49;00m \u001b[39mself\u001b[39;49m\u001b[39m.\u001b[39;49mtrack_running_stats \u001b[39melse\u001b[39;49;00m \u001b[39mNone\u001b[39;49;00m,\n\u001b[0;32m    178\u001b[0m     \u001b[39mself\u001b[39;49m\u001b[39m.\u001b[39;49mweight,\n\u001b[0;32m    179\u001b[0m     \u001b[39mself\u001b[39;49m\u001b[39m.\u001b[39;49mbias,\n\u001b[0;32m    180\u001b[0m     bn_training,\n\u001b[0;32m    181\u001b[0m     exponential_average_factor,\n\u001b[0;32m    182\u001b[0m     \u001b[39mself\u001b[39;49m\u001b[39m.\u001b[39;49meps,\n\u001b[0;32m    183\u001b[0m )\n",
            "File \u001b[1;32me:\\Development\\ML-env-py\\torchenvpy39\\lib\\site-packages\\torch\\nn\\functional.py:2448\u001b[0m, in \u001b[0;36mbatch_norm\u001b[1;34m(input, running_mean, running_var, weight, bias, training, momentum, eps)\u001b[0m\n\u001b[0;32m   2435\u001b[0m     \u001b[39mreturn\u001b[39;00m handle_torch_function(\n\u001b[0;32m   2436\u001b[0m         batch_norm,\n\u001b[0;32m   2437\u001b[0m         (\u001b[39minput\u001b[39m, running_mean, running_var, weight, bias),\n\u001b[1;32m   (...)\u001b[0m\n\u001b[0;32m   2445\u001b[0m         eps\u001b[39m=\u001b[39meps,\n\u001b[0;32m   2446\u001b[0m     )\n\u001b[0;32m   2447\u001b[0m \u001b[39mif\u001b[39;00m training:\n\u001b[1;32m-> 2448\u001b[0m     _verify_batch_size(\u001b[39minput\u001b[39;49m\u001b[39m.\u001b[39;49msize())\n\u001b[0;32m   2450\u001b[0m \u001b[39mreturn\u001b[39;00m torch\u001b[39m.\u001b[39mbatch_norm(\n\u001b[0;32m   2451\u001b[0m     \u001b[39minput\u001b[39m, weight, bias, running_mean, running_var, training, momentum, eps, torch\u001b[39m.\u001b[39mbackends\u001b[39m.\u001b[39mcudnn\u001b[39m.\u001b[39menabled\n\u001b[0;32m   2452\u001b[0m )\n",
            "File \u001b[1;32me:\\Development\\ML-env-py\\torchenvpy39\\lib\\site-packages\\torch\\nn\\functional.py:2416\u001b[0m, in \u001b[0;36m_verify_batch_size\u001b[1;34m(size)\u001b[0m\n\u001b[0;32m   2414\u001b[0m     size_prods \u001b[39m*\u001b[39m\u001b[39m=\u001b[39m size[i \u001b[39m+\u001b[39m \u001b[39m2\u001b[39m]\n\u001b[0;32m   2415\u001b[0m \u001b[39mif\u001b[39;00m size_prods \u001b[39m==\u001b[39m \u001b[39m1\u001b[39m:\n\u001b[1;32m-> 2416\u001b[0m     \u001b[39mraise\u001b[39;00m \u001b[39mValueError\u001b[39;00m(\u001b[39m\"\u001b[39m\u001b[39mExpected more than 1 value per channel when training, got input size \u001b[39m\u001b[39m{}\u001b[39;00m\u001b[39m\"\u001b[39m\u001b[39m.\u001b[39mformat(size))\n",
            "\u001b[1;31mValueError\u001b[0m: Expected more than 1 value per channel when training, got input size torch.Size([1, 512, 1])"
          ]
        }
      ],
      "source": [
        "\n",
        "sample = sample_from_piano_rnn(rnn, sample_length=200, temperature=1,starting_sequence=None).transpose()\n",
        "# io.imshow(sample)\n",
        "midiwrite('sample_reg_018.mid', sample.transpose(), dt=0.3)"
      ]
    },
    {
      "cell_type": "code",
      "execution_count": 89,
      "metadata": {
        "ExecuteTime": {
          "end_time": "2018-11-26T16:30:38.850609Z",
          "start_time": "2018-11-26T16:30:38.843627Z"
        },
        "colab": {
          "base_uri": "https://localhost:8080/",
          "height": 34
        },
        "id": "aGSZpCBFuQGE",
        "outputId": "e5404958-1863-4c33-b8ed-6557f370c095"
      },
      "outputs": [
        {
          "data": {
            "text/html": [
              "<a href='sample_reg_018.mid' target='_blank'>sample_reg_018.mid</a><br>"
            ],
            "text/plain": [
              "/content/Music-Generation/sample_reg_018.mid"
            ]
          },
          "execution_count": 89,
          "metadata": {},
          "output_type": "execute_result"
        }
      ],
      "source": [
        "FileLink('sample_reg_018.mid')"
      ]
    },
    {
      "cell_type": "markdown",
      "metadata": {
        "id": "djFq1M8luQGF"
      },
      "source": [
        "## Note : Please convert the midi file to .mp3 or .wav format to listen\n",
        "## I would try to update the notebook providing that feature in the future"
      ]
    },
    {
      "cell_type": "code",
      "execution_count": 75,
      "metadata": {
        "ExecuteTime": {
          "end_time": "2018-11-27T12:32:12.661084Z",
          "start_time": "2018-11-27T12:32:12.333381Z"
        },
        "colab": {
          "base_uri": "https://localhost:8080/",
          "height": 76
        },
        "id": "_FnHh58OuQGF",
        "outputId": "dcb23087-84ef-4474-8ecc-2834aeb43bcc"
      },
      "outputs": [
        {
          "data": {
            "text/html": [
              "\n",
              "                <audio  controls=\"controls\" >\n",
              "                    <source src=\"data:audio/midi;base64,TVRoZAAAAAYAAAABAGRNVHJrAAAFRwDAAACQPVo8kDlaPJBAWjyQSVp4gEAAAIBJADyQQFp4gD0APJA9WniQQlo8gEAAAIBCADyQMloAkEBaPIAyAACQSlo8gEoAPJAyWjyQSVoAkEpaAJBMWgCQTlo8gDIAAIBJAACQNlo8gDYAAIBKAACATgAAkDJaPIAyAACAQAAAgEwAPJBAWjyQMlo8gDIAPJBMWniAPQAAgEwAPJAyWgCQR1oAkElaPIAyAACAQAAAgEcAAIBJAACQPVo8kDtaAJBAWgCQSVo8gDsAAIA9ADyASQAAkD1agTSQSloAkE5aPIBKAACATgAAkDZaAJBJWgCQTFo8gDYAAIBJAACQTlo8gEAAAIBOADyQMloAkEBaAJBOWjyAMgAAgEAAAIBOADyQQFoAkE5aPIBOADyATAAAkEJaAJBKWgCQUVo8gEIAAIBKAACAUQA8kEJaAJBDWgCQTFo8gEMAAIBMAACQSVo8gEkAPIBCAACQRVoAkElaPIBFAACASQA8gD0AAIBAADyQPVoAkEBahFiQMFo8gDAAAIA9AACQSVoAkExaPIBMAACQO1oAkE5aAJBRWjyAOwAAgEAAAIBJAACAUQAAkExaPIBOADyQMloAkE5aPIAyAACATAAAkDZaAJA9WgCQbFo8gD0AAIBsAACQMloAkEBaAJBKWgCQTFo8gEAAAIBMAHiASgB4kD1aAJBKWgCQTFo8gEoAPIA9AACATAAAgE4APJBDWjyAQwA8kE5agTSQSVoAkEpaAJBMWjyASQAAgEoAAIBMAHiQTFo8gDkAPIBMAACQOVo8kEpaAJBMWniASgA8gEwAAJBKWjyQTFo8gEoAAIBMAACATgB4kE5aeIBOAACQTFo8kE5aPJBKWoE0gEoAAIBOADyATAAAkEpaAJBOWjyASgAAkExaeIBMAACQSlo8gEoAAJBMWniATAAAkEpaAJBRWjyASgAAgE4AAIBRAHiQSVo8gEkAAJBOWjyAMgA8gE4AAJAyWgCQSloAkExaPIBKAACATAA8kEFaAJBMWgCQTlo8gEEAAIBMADyAMgAAgE4AAJBMWjyQMloAkEpaAJBOWjyATAAAgE4APIBKADyQTlo8gE4AAJBCWjyAQgAAkEVaAJBHWgCQSlo8gEcAAIBKAACQQlp4gEUAAJBHWjyAQgAAkElaPIA2AACARwAAgEkAAJBFWgCQSlo8gEUAAIBKAACQNlqBcJBKWjyASgAAkExaAJBOWjyQSlo8gEoAAIBMADyATgAAkExaPIBMAACQN1oAkEpaPIA3AACQTFoAkE5aeIBKAACATAAAgE4APJA0WgCQTFo8gDQAAIBMAACQPVoAkE5aPIA9AACQSlo8kExaPIBMAACATgAAkDtaPIA7AACQTlo8gEoAPIBOADyQTlo8gE4AAJBFWgCQTFo8gEwAAJBJWjyARQAAgEkAAJBOWjyATgA8kEpaAJBOWjyASgAAgE4AAJBFWjyARQCBNJBOWjyATgB4kEdaAJBMWjyARwAAgEwAgTSQSloAkE5aPIBKAACQTFo8gE4APIBMAACQTlp4gE4AgXCQTlo8gE4AAJBCWgCQRVo8gEIAPIBFAACQQloAkEdaPIBCAACARwB4kE5aPJBKWjyQTFo8gEoAAIBMAACATgA8kE5aeIBOADyQTFoAkE5aPIBMAACQSlo8gE4APIA5AACASgAAkE5aAJBRWjyAUQAAkDlaAJBKWniAMgAAgE4AAJBMWjyASgAAkDJaAJBFWjyARQAAgEwAPJBMWjyATAA8kE5aPIAyAACANgAAgDkAAIBOAAD/LwA=\" type=\"audio/midi\" />\n",
              "                    Your browser does not support the audio element.\n",
              "                </audio>\n",
              "              "
            ],
            "text/plain": [
              "<IPython.lib.display.Audio object>"
            ]
          },
          "execution_count": 75,
          "metadata": {},
          "output_type": "execute_result"
        }
      ],
      "source": [
        "import IPython.display as ipd\n",
        "ipd.Audio('/content/Music-Generation/sample_reg_018.mid', rate=44100)"
      ]
    },
    {
      "cell_type": "code",
      "execution_count": 74,
      "metadata": {
        "id": "KidhIBRyzXYD"
      },
      "outputs": [],
      "source": []
    }
  ],
  "metadata": {
    "accelerator": "GPU",
    "colab": {
      "gpuType": "T4",
      "provenance": []
    },
    "gpuClass": "standard",
    "kernelspec": {
      "display_name": "Python 3",
      "language": "python",
      "name": "python3"
    },
    "language_info": {
      "codemirror_mode": {
        "name": "ipython",
        "version": 3
      },
      "file_extension": ".py",
      "mimetype": "text/x-python",
      "name": "python",
      "nbconvert_exporter": "python",
      "pygments_lexer": "ipython3",
      "version": "3.9.13"
    },
    "varInspector": {
      "cols": {
        "lenName": 16,
        "lenType": 16,
        "lenVar": 40
      },
      "kernels_config": {
        "python": {
          "delete_cmd_postfix": "",
          "delete_cmd_prefix": "del ",
          "library": "var_list.py",
          "varRefreshCmd": "print(var_dic_list())"
        },
        "r": {
          "delete_cmd_postfix": ") ",
          "delete_cmd_prefix": "rm(",
          "library": "var_list.r",
          "varRefreshCmd": "cat(var_dic_list()) "
        }
      },
      "types_to_exclude": [
        "module",
        "function",
        "builtin_function_or_method",
        "instance",
        "_Feature"
      ],
      "window_display": false
    }
  },
  "nbformat": 4,
  "nbformat_minor": 0
}
